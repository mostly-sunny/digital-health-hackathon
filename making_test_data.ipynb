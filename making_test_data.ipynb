{
  "nbformat": 4,
  "nbformat_minor": 0,
  "metadata": {
    "colab": {
      "name": "making_test_data.ipynb",
      "provenance": [],
      "authorship_tag": "ABX9TyMKYdsegwvqTX9KyNyZVBXN",
      "include_colab_link": true
    },
    "kernelspec": {
      "name": "python3",
      "display_name": "Python 3"
    },
    "language_info": {
      "name": "python"
    }
  },
  "cells": [
    {
      "cell_type": "markdown",
      "metadata": {
        "id": "view-in-github",
        "colab_type": "text"
      },
      "source": [
        "<a href=\"https://colab.research.google.com/github/mostly-sunny/digital-health-hackathon/blob/main/making_test_data.ipynb\" target=\"_parent\"><img src=\"https://colab.research.google.com/assets/colab-badge.svg\" alt=\"Open In Colab\"/></a>"
      ]
    },
    {
      "cell_type": "code",
      "metadata": {
        "id": "uDmZmYz7ZNXY"
      },
      "source": [
        "import pandas as pd"
      ],
      "execution_count": 2,
      "outputs": []
    },
    {
      "cell_type": "code",
      "metadata": {
        "id": "N3V7218lYJti"
      },
      "source": [
        "test_data=[]"
      ],
      "execution_count": 3,
      "outputs": []
    },
    {
      "cell_type": "code",
      "metadata": {
        "id": "NDMC7_AlZR1M"
      },
      "source": [
        "test_data.append([0]*311)\n",
        "test_data.append([0]*310+[1])"
      ],
      "execution_count": 4,
      "outputs": []
    },
    {
      "cell_type": "code",
      "metadata": {
        "id": "QMMPaMLWZhjV"
      },
      "source": [
        "for i in range(300):\n",
        "  untreat_data = [0]*311\n",
        "  untreat_data[i]=1\n",
        "  test_data.append(untreat_data)\n",
        "for i in range(300):\n",
        "  treat_data = [0]*310+[1]\n",
        "  treat_data[i]=1\n",
        "  test_data.append(treat_data)"
      ],
      "execution_count": 6,
      "outputs": []
    },
    {
      "cell_type": "code",
      "metadata": {
        "id": "mcoF_xpQaKje"
      },
      "source": [
        "columns_list = []\n",
        "for i in range(1, 301):\n",
        "  columns_list.append('G' + str(i))\n",
        "for i in range(1, 11):\n",
        "  columns_list.append('Var' + str(i))\n",
        "columns_list.append('Treatment')"
      ],
      "execution_count": 7,
      "outputs": []
    },
    {
      "cell_type": "code",
      "metadata": {
        "id": "_MYXtFaCaEUm"
      },
      "source": [
        "pd.DataFrame(test_data, columns=columns_list).to_csv('/content/test-data.csv')"
      ],
      "execution_count": 9,
      "outputs": []
    },
    {
      "cell_type": "code",
      "metadata": {
        "id": "w4Ev6NBga2wO"
      },
      "source": [
        ""
      ],
      "execution_count": null,
      "outputs": []
    },
    {
      "cell_type": "code",
      "metadata": {
        "id": "AA0fE3ZJZiwQ"
      },
      "source": [
        ""
      ],
      "execution_count": null,
      "outputs": []
    },
    {
      "cell_type": "code",
      "metadata": {
        "id": "5hOfdh8TZLZi"
      },
      "source": [
        ""
      ],
      "execution_count": null,
      "outputs": []
    }
  ]
}