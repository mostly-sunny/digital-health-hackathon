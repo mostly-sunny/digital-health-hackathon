{
  "nbformat": 4,
  "nbformat_minor": 0,
  "metadata": {
    "colab": {
      "name": "coxph-with-clinical-var-minmaxscaler.ipynb",
      "provenance": [],
      "collapsed_sections": []
    },
    "kernelspec": {
      "name": "python3",
      "display_name": "Python 3"
    },
    "language_info": {
      "name": "python"
    }
  },
  "cells": [
    {
      "cell_type": "markdown",
      "metadata": {
        "id": "L91UX-HYY5Qr"
      },
      "source": [
        "# Pycox - CoxPH Model\n",
        "- Network : 3 Hidden Layers, Linear with ReLU functions\n",
        "- Input Variables : G1 ~ G300, Var1 ~ Var10, Treatment\n",
        "- Output Variables : time, event\n",
        "- Scaler : MinMaxScaler -> Var1 ~ Var10\n",
        "\n"
      ]
    },
    {
      "cell_type": "code",
      "metadata": {
        "id": "vlcJyLq91wdA"
      },
      "source": [
        "pip install pycox"
      ],
      "execution_count": null,
      "outputs": []
    },
    {
      "cell_type": "code",
      "metadata": {
        "id": "8j42Q8682S-J"
      },
      "source": [
        "import numpy as np\n",
        "import matplotlib.pyplot as plt\n",
        "from sklearn.preprocessing import StandardScaler\n",
        "from sklearn.preprocessing import MinMaxScaler\n",
        "from sklearn_pandas import DataFrameMapper\n",
        "import pandas as pd\n",
        "\n",
        "import torch\n",
        "import torchtuples as tt\n",
        "\n",
        "from pycox.models import CoxPH\n",
        "from pycox.evaluation import EvalSurv"
      ],
      "execution_count": 97,
      "outputs": []
    },
    {
      "cell_type": "markdown",
      "metadata": {
        "id": "zOyFOsuvkXqN"
      },
      "source": [
        "- all-in-one.csv 파일은 유전자 변이 유무, 임상 변수, 생존 기간, 사망 여부, 치료 유무가 열로 존재하는 파일\n",
        "- test-data-treat-and-untreat.csv 파일은 all-in-one의 열은 같은 602개의 데이터.\n",
        "  - (0번째 행) : 유전자 변이 모두 0, 치료 0\n",
        "  - (1번째 행) : 유전자 변이 모두 0, 치료 1\n",
        "  - (2~301번째 행) : 유전자 변이 n-1에만 1, 치료 0\n",
        "  - (302~601번재 행) : 유전자 변이 n-301에만 1, 치료 1\n",
        "- pandas 라이브러리에 있는 csv 파일을 DataFrame으로 바꾸어주는 read_csv 함수를 이용하여 파일을 읽어 들임.\n",
        "- DataFrame은 표를 나타내는 데이터 타입임."
      ]
    },
    {
      "cell_type": "code",
      "metadata": {
        "id": "x3Ww7lpV2Uor"
      },
      "source": [
        "dataset = pd.read_csv('/content/all-in-one.csv')\n",
        "dataset_for_hr = pd.read_csv('/content/test-data-treat-and-untreat.csv')"
      ],
      "execution_count": 98,
      "outputs": []
    },
    {
      "cell_type": "markdown",
      "metadata": {
        "id": "twdq_J1Ym9gf"
      },
      "source": [
        "- 위에서 읽어들인 dataset 중에서 20%는 검증(_val -> validation)을 위해 sampling 한다.\n",
        "- 남은 80%의 데이터에서도 20%는 테스트(_test)를 위해 sampling 한다."
      ]
    },
    {
      "cell_type": "code",
      "metadata": {
        "id": "z4vLVwYM24xW"
      },
      "source": [
        "dataset_val = dataset.sample(frac=0.2)\n",
        "dataset_train = dataset.drop(dataset_val.index)\n",
        "dataset_test = dataset_train.sample(frac=0.2)\n",
        "dataset_train = dataset_train.drop(dataset_test.index)"
      ],
      "execution_count": 99,
      "outputs": []
    },
    {
      "cell_type": "markdown",
      "metadata": {
        "id": "UX1Ddl463deJ"
      },
      "source": [
        "- columns_standardize : 임상변수 - 0~9사이의 값을 표준화\n",
        "- columns_leave : 유전자 변이 유무 + 치료 유무 - 0과 1로 표현돼 있기 때문에 표준화 필요 없음.\n",
        "- DataFrameMapper는 pandas DataFrame에서 원하는 열을 뽑아서 리스트로 만들어줌.\n",
        "- 리스트로 만들때 StandardScaler()가 포함된 열은 표준화를 시킨 뒤, 그리고 None이면 갖고 있는 값을 그대로 넣음."
      ]
    },
    {
      "cell_type": "code",
      "metadata": {
        "id": "LHBg3yDH3Xzf"
      },
      "source": [
        "columns_standardize = ['Var' + str(i) for i in range(1,11)]\n",
        "columns_leave = ['G' + str(i) for i in range(1,301)]\n",
        "columns_leave += ['Treatment']\n",
        "\n",
        "# standardize = [([col], StandardScaler()) for col in columns_standardize]\n",
        "standardize = [([col], MinMaxScaler()) for col in columns_standardize]\n",
        "\n",
        "leave = [(col, None) for col in columns_leave]\n",
        "\n",
        "x_mapper = DataFrameMapper(leave + standardize)"
      ],
      "execution_count": 100,
      "outputs": []
    },
    {
      "cell_type": "markdown",
      "metadata": {
        "id": "RZHTUBBSmWTc"
      },
      "source": [
        "- 위에서 만든 DataFrameMapper로 DataFrame 중 x(입력) 데이터를 모델이 학습할 수 있게끔 리스트 형식으로 바꾸어 준다.\n",
        "\n"
      ]
    },
    {
      "cell_type": "code",
      "metadata": {
        "id": "o4UrVswf3phZ"
      },
      "source": [
        "x_train = x_mapper.fit_transform(dataset_train).astype('float32')\n",
        "x_val = x_mapper.transform(dataset_val).astype('float32')\n",
        "x_for_hr = x_mapper.transform(dataset_for_hr).astype('float32')"
      ],
      "execution_count": 101,
      "outputs": []
    },
    {
      "cell_type": "markdown",
      "metadata": {
        "id": "W4PCVeJGmx21"
      },
      "source": [
        "- DataFrame (표)에서 Y(출력)데이터인 time(생존기간)과 event(사망여부)를 뽑아 출력 데이터를 추린다.\n",
        "- 검증(Validation)을 위한 입력-출력 세트 val을 만든다."
      ]
    },
    {
      "cell_type": "code",
      "metadata": {
        "id": "UGTF5V3y4Yot"
      },
      "source": [
        "get_target = lambda df: (df['time'].values, df['event'].values)\n",
        "y_train = get_target(dataset_train)\n",
        "y_val = get_target(dataset_val)\n",
        "\n",
        "durations_test, events_test = get_target(dataset_test)\n",
        "val = x_val, y_val"
      ],
      "execution_count": 102,
      "outputs": []
    },
    {
      "cell_type": "markdown",
      "metadata": {
        "id": "J-rPa9mWn1I4"
      },
      "source": [
        "- in_features : 입력데이터의 개수 (x_train.shape : 311 = 300(유전자) + 10(임상변수) + 1(치료유무))\n",
        "- num_nodes : 우리가 사용하는 torch에서는 필요없음. (직접 숫자를 쓰기 때문에)\n",
        "- out_features : 출력노드의 개수\n",
        "- dropout : 제거하는 노드 비율 (?) (정확하지 않음 확인 필요)\n",
        "\n",
        "- net : 우리가 설정할 네트워크 (현재는 hidden layer가 3개)"
      ]
    },
    {
      "cell_type": "code",
      "metadata": {
        "id": "iJHZogmj5a-4"
      },
      "source": [
        "in_features = x_train.shape[1]\n",
        "# num_nodes = [32, 32]\n",
        "out_features = 1\n",
        "batch_norm = True\n",
        "dropout = 0.1\n",
        "output_bias = False\n",
        "\n",
        "net = torch.nn.Sequential(\n",
        "    torch.nn.Linear(in_features, 32),\n",
        "    torch.nn.ReLU(),\n",
        "    torch.nn.BatchNorm1d(32),\n",
        "    torch.nn.Dropout(0.1),\n",
        "    \n",
        "    torch.nn.Linear(32, 32),\n",
        "    torch.nn.ReLU(),\n",
        "    torch.nn.BatchNorm1d(32),\n",
        "    torch.nn.Dropout(0.1),\n",
        "\n",
        "    torch.nn.Linear(32, 32),\n",
        "    torch.nn.ReLU(),\n",
        "    torch.nn.BatchNorm1d(32),\n",
        "    torch.nn.Dropout(0.1),\n",
        "\n",
        "    \n",
        "    torch.nn.Linear(32, out_features)\n",
        ")"
      ],
      "execution_count": 103,
      "outputs": []
    },
    {
      "cell_type": "markdown",
      "metadata": {
        "id": "rhhHsQ7FodHn"
      },
      "source": [
        "- CoxPH 모델 생성, net은 위에서 설계한 네트워크로, optimizer은 Adam 기법으로 (!= SGD)"
      ]
    },
    {
      "cell_type": "code",
      "metadata": {
        "id": "Cd2yOAOz5jME"
      },
      "source": [
        "model = CoxPH(net, tt.optim.Adam)"
      ],
      "execution_count": 104,
      "outputs": []
    },
    {
      "cell_type": "markdown",
      "metadata": {
        "id": "G5F-ICzbope3"
      },
      "source": [
        "- batch_size : 한 번의 학습에서 이용할 데이터 개수가 256\n",
        "- lrfinder : 이 모델에서 적절한 학습률을 찾아주는 함수\n",
        "- lrfinder.plot()을 하면 그래프를 그려줌."
      ]
    },
    {
      "cell_type": "code",
      "metadata": {
        "colab": {
          "base_uri": "https://localhost:8080/",
          "height": 283
        },
        "id": "XWAwzoys5kTa",
        "outputId": "f0c30f7b-fedd-4c5a-9f02-2a744b7ef41a"
      },
      "source": [
        "batch_size = 256\n",
        "lrfinder = model.lr_finder(x_train, y_train, batch_size, tolerance=10)\n",
        "_ = lrfinder.plot()"
      ],
      "execution_count": 105,
      "outputs": [
        {
          "output_type": "display_data",
          "data": {
            "image/png": "[encoded data removed]",
            "text/plain": [
              "<Figure size 432x288 with 1 Axes>"
            ]
          },
          "metadata": {
            "needs_background": "light"
          }
        }
      ]
    },
    {
      "cell_type": "markdown",
      "metadata": {
        "id": "ICxtCmzWo7xq"
      },
      "source": [
        "-lrfinder.get_best_lr() : lrfinder가 추천하는 학습률 return"
      ]
    },
    {
      "cell_type": "code",
      "metadata": {
        "colab": {
          "base_uri": "https://localhost:8080/"
        },
        "id": "ptRgtHIx50ia",
        "outputId": "20b89a32-c21c-4b00-865e-6ea72232f302"
      },
      "source": [
        "lrfinder.get_best_lr()"
      ],
      "execution_count": 106,
      "outputs": [
        {
          "output_type": "execute_result",
          "data": {
            "text/plain": [
              "0.10722672220103299"
            ]
          },
          "metadata": {},
          "execution_count": 106
        }
      ]
    },
    {
      "cell_type": "markdown",
      "metadata": {
        "id": "seTVYUaZpbXV"
      },
      "source": [
        "- 위에서 얻은 학습률로 optimizer을 설정함"
      ]
    },
    {
      "cell_type": "code",
      "metadata": {
        "id": "r1mFYII8523C"
      },
      "source": [
        "model.optimizer.set_lr(lrfinder.get_best_lr())"
      ],
      "execution_count": 107,
      "outputs": []
    },
    {
      "cell_type": "markdown",
      "metadata": {
        "id": "MTfaVNxRpf8B"
      },
      "source": [
        "- 512번 학습\n",
        "- EarlyStopping() 함수는 학습에 진전이 없을 때 학습을 멈추게 하는 함수\n",
        "- verbose는 뭔지 아직 모르겠음."
      ]
    },
    {
      "cell_type": "code",
      "metadata": {
        "id": "EKeYRiRt5_t-"
      },
      "source": [
        "epochs = 512\n",
        "callbacks = [tt.callbacks.EarlyStopping()]\n",
        "verbose = True"
      ],
      "execution_count": 108,
      "outputs": []
    },
    {
      "cell_type": "markdown",
      "metadata": {
        "id": "yiY0gDY5pvbB"
      },
      "source": [
        "- 모델을 학습시키면서 log를 기록"
      ]
    },
    {
      "cell_type": "code",
      "metadata": {
        "colab": {
          "base_uri": "https://localhost:8080/"
        },
        "id": "RHBJBTJW6CAM",
        "outputId": "9e8d8110-50dd-45b5-e54f-39061c43746b"
      },
      "source": [
        "%%time\n",
        "log = model.fit(x_train, y_train, batch_size, epochs, callbacks, verbose,\n",
        "                val_data=val, val_batch_size=batch_size)"
      ],
      "execution_count": 109,
      "outputs": [
        {
          "output_type": "stream",
          "name": "stdout",
          "text": [
            "0:\t[0s / 0s],\t\ttrain_loss: 4.5121,\tval_loss: 4.6683\n",
            "1:\t[0s / 0s],\t\ttrain_loss: 4.4631,\tval_loss: 7.7414\n",
            "2:\t[0s / 0s],\t\ttrain_loss: 4.3380,\tval_loss: 5.6018\n",
            "3:\t[0s / 0s],\t\ttrain_loss: 4.2579,\tval_loss: 4.4348\n",
            "4:\t[0s / 0s],\t\ttrain_loss: 4.2086,\tval_loss: 4.3925\n",
            "5:\t[0s / 0s],\t\ttrain_loss: 4.1568,\tval_loss: 4.4556\n",
            "6:\t[0s / 0s],\t\ttrain_loss: 4.1272,\tval_loss: 4.6728\n",
            "7:\t[0s / 0s],\t\ttrain_loss: 4.0599,\tval_loss: 4.5410\n",
            "8:\t[0s / 0s],\t\ttrain_loss: 4.0266,\tval_loss: 4.4479\n",
            "9:\t[0s / 0s],\t\ttrain_loss: 4.0254,\tval_loss: 4.3932\n",
            "10:\t[0s / 0s],\t\ttrain_loss: 3.9374,\tval_loss: 4.4796\n",
            "11:\t[0s / 0s],\t\ttrain_loss: 3.8458,\tval_loss: 4.5367\n",
            "12:\t[0s / 0s],\t\ttrain_loss: 3.8408,\tval_loss: 4.5949\n",
            "13:\t[0s / 0s],\t\ttrain_loss: 3.7477,\tval_loss: 4.5516\n",
            "14:\t[0s / 0s],\t\ttrain_loss: 3.7138,\tval_loss: 4.6093\n",
            "CPU times: user 224 ms, sys: 6.45 ms, total: 230 ms\n",
            "Wall time: 234 ms\n"
          ]
        }
      ]
    },
    {
      "cell_type": "markdown",
      "metadata": {
        "id": "ICGiAoGQp1S4"
      },
      "source": [
        "- 찍힌 log를 그래프로 그림"
      ]
    },
    {
      "cell_type": "code",
      "metadata": {
        "colab": {
          "base_uri": "https://localhost:8080/",
          "height": 265
        },
        "id": "MoO8pJ4H6IV-",
        "outputId": "dcd897b5-0cc3-4f18-97b4-5e0e61449fca"
      },
      "source": [
        "_ = log.plot()"
      ],
      "execution_count": 110,
      "outputs": [
        {
          "output_type": "display_data",
          "data": {
            "image/png": "[encoded data removed]",
            "text/plain": [
              "<Figure size 432x288 with 1 Axes>"
            ]
          },
          "metadata": {
            "needs_background": "light"
          }
        }
      ]
    },
    {
      "cell_type": "markdown",
      "metadata": {
        "id": "8aJVYTRRp5GJ"
      },
      "source": [
        "- 생존 함수를 그리기 위해서 baseline_hazard를 compute하는 이 함수를 호출해야 한다고 함."
      ]
    },
    {
      "cell_type": "code",
      "metadata": {
        "id": "QSs3D1aK6LaT"
      },
      "source": [
        "_ = model.compute_baseline_hazards()"
      ],
      "execution_count": 113,
      "outputs": []
    },
    {
      "cell_type": "markdown",
      "metadata": {
        "id": "lBthPw8TqDZT"
      },
      "source": [
        "- model.predict함수는 입력 데이터에 대한 log partial hazard를 구해줌.\n",
        "- partial_hazard : predict 함수로 얻은 지수부분에 e를 취해 e^log_partial_hazard 값들을 리스트로 얻음.\n",
        "- treat_hr : 300개의 유전자 변이에 대해서 치료가 0일때와 1일때 위험비를 계산해서 추가함.\n",
        "- for문 설명 : 빈 리스트에 300개를 추가할건데 G1부터 G300까지 각각 치료했을 때/치료하지 않았을 때 위험비를 저장\n",
        "- 치료 유무에 따른 위험비값을 기준으로 오름차순 정렬\n",
        "- 위 값이 작을 수록 치료했을 때 위험률이 낮은 것이므로 유전자 앞의 10개 print"
      ]
    },
    {
      "cell_type": "code",
      "metadata": {
        "colab": {
          "base_uri": "https://localhost:8080/"
        },
        "id": "oERvGUxMenib",
        "outputId": "b3b42613-9883-492e-e425-6135cf6fbe4e"
      },
      "source": [
        "log_partial_hazard = model.predict(x_for_hr)\n",
        "partial_hazard = [np.exp(i) for i in log_partial_hazard]\n",
        "\n",
        "treat_hr = []\n",
        "# ratio with treated and untreated\n",
        "for i in range(300):\n",
        "  treat_hr.append([partial_hazard[i+302]/partial_hazard[i+2],'G' + str(i+1)])\n",
        "treat_hr.sort()\n",
        "treat_hr[:10]"
      ],
      "execution_count": 120,
      "outputs": [
        {
          "output_type": "execute_result",
          "data": {
            "text/plain": [
              "[[array([0.35377252], dtype=float32), 'G77'],\n",
              " [array([0.35869387], dtype=float32), 'G7'],\n",
              " [array([0.37105277], dtype=float32), 'G155'],\n",
              " [array([0.38700172], dtype=float32), 'G211'],\n",
              " [array([0.40494138], dtype=float32), 'G60'],\n",
              " [array([0.40577623], dtype=float32), 'G64'],\n",
              " [array([0.41197652], dtype=float32), 'G125'],\n",
              " [array([0.4179301], dtype=float32), 'G262'],\n",
              " [array([0.43241972], dtype=float32), 'G139'],\n",
              " [array([0.43602657], dtype=float32), 'G87']]"
            ]
          },
          "metadata": {},
          "execution_count": 120
        }
      ]
    }
  ]
}